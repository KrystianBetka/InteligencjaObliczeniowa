{
 "cells": [
  {
   "cell_type": "code",
   "execution_count": 12,
   "metadata": {},
   "outputs": [
    {
     "data": {
      "text/html": [
       "<div>\n",
       "<style scoped>\n",
       "    .dataframe tbody tr th:only-of-type {\n",
       "        vertical-align: middle;\n",
       "    }\n",
       "\n",
       "    .dataframe tbody tr th {\n",
       "        vertical-align: top;\n",
       "    }\n",
       "\n",
       "    .dataframe thead th {\n",
       "        text-align: right;\n",
       "    }\n",
       "</style>\n",
       "<table border=\"1\" class=\"dataframe\">\n",
       "  <thead>\n",
       "    <tr style=\"text-align: right;\">\n",
       "      <th></th>\n",
       "      <th>Rok</th>\n",
       "      <th>Gdansk</th>\n",
       "      <th>Poznan</th>\n",
       "      <th>Szczecin</th>\n",
       "    </tr>\n",
       "  </thead>\n",
       "  <tbody>\n",
       "    <tr>\n",
       "      <th>0</th>\n",
       "      <td>1900</td>\n",
       "      <td>170</td>\n",
       "      <td>110</td>\n",
       "      <td>210</td>\n",
       "    </tr>\n",
       "    <tr>\n",
       "      <th>1</th>\n",
       "      <td>1925</td>\n",
       "      <td>210</td>\n",
       "      <td>220</td>\n",
       "      <td>254</td>\n",
       "    </tr>\n",
       "    <tr>\n",
       "      <th>2</th>\n",
       "      <td>1939</td>\n",
       "      <td>250</td>\n",
       "      <td>274</td>\n",
       "      <td>287</td>\n",
       "    </tr>\n",
       "    <tr>\n",
       "      <th>3</th>\n",
       "      <td>1946</td>\n",
       "      <td>117</td>\n",
       "      <td>267</td>\n",
       "      <td>72</td>\n",
       "    </tr>\n",
       "    <tr>\n",
       "      <th>4</th>\n",
       "      <td>1950</td>\n",
       "      <td>194</td>\n",
       "      <td>320</td>\n",
       "      <td>178</td>\n",
       "    </tr>\n",
       "    <tr>\n",
       "      <th>5</th>\n",
       "      <td>1960</td>\n",
       "      <td>286</td>\n",
       "      <td>408</td>\n",
       "      <td>269</td>\n",
       "    </tr>\n",
       "    <tr>\n",
       "      <th>6</th>\n",
       "      <td>1970</td>\n",
       "      <td>365</td>\n",
       "      <td>471</td>\n",
       "      <td>338</td>\n",
       "    </tr>\n",
       "    <tr>\n",
       "      <th>7</th>\n",
       "      <td>1980</td>\n",
       "      <td>456</td>\n",
       "      <td>552</td>\n",
       "      <td>388</td>\n",
       "    </tr>\n",
       "    <tr>\n",
       "      <th>8</th>\n",
       "      <td>1990</td>\n",
       "      <td>465</td>\n",
       "      <td>590</td>\n",
       "      <td>413</td>\n",
       "    </tr>\n",
       "    <tr>\n",
       "      <th>9</th>\n",
       "      <td>2000</td>\n",
       "      <td>462</td>\n",
       "      <td>574</td>\n",
       "      <td>416</td>\n",
       "    </tr>\n",
       "  </tbody>\n",
       "</table>\n",
       "</div>"
      ],
      "text/plain": [
       "    Rok  Gdansk  Poznan  Szczecin\n",
       "0  1900     170     110       210\n",
       "1  1925     210     220       254\n",
       "2  1939     250     274       287\n",
       "3  1946     117     267        72\n",
       "4  1950     194     320       178\n",
       "5  1960     286     408       269\n",
       "6  1970     365     471       338\n",
       "7  1980     456     552       388\n",
       "8  1990     465     590       413\n",
       "9  2000     462     574       416"
      ]
     },
     "execution_count": 12,
     "metadata": {},
     "output_type": "execute_result"
    }
   ],
   "source": [
    "import pandas as pd\n",
    "pd.read_csv(\"./miasta.csv\")\n",
    "miasta = pd.read_csv(\"./miasta.csv\")\n",
    "df = pd.DataFrame(miasta)\n",
    "df\n"
   ]
  },
  {
   "cell_type": "code",
   "execution_count": 13,
   "metadata": {},
   "outputs": [
    {
     "data": {
      "text/plain": [
       "array([[1900,  170,  110,  210],\n",
       "       [1925,  210,  220,  254],\n",
       "       [1939,  250,  274,  287],\n",
       "       [1946,  117,  267,   72],\n",
       "       [1950,  194,  320,  178],\n",
       "       [1960,  286,  408,  269],\n",
       "       [1970,  365,  471,  338],\n",
       "       [1980,  456,  552,  388],\n",
       "       [1990,  465,  590,  413],\n",
       "       [2000,  462,  574,  416]], dtype=int64)"
      ]
     },
     "execution_count": 13,
     "metadata": {},
     "output_type": "execute_result"
    }
   ],
   "source": [
    "df.values"
   ]
  },
  {
   "cell_type": "code",
   "execution_count": 14,
   "metadata": {},
   "outputs": [
    {
     "data": {
      "text/html": [
       "<div>\n",
       "<style scoped>\n",
       "    .dataframe tbody tr th:only-of-type {\n",
       "        vertical-align: middle;\n",
       "    }\n",
       "\n",
       "    .dataframe tbody tr th {\n",
       "        vertical-align: top;\n",
       "    }\n",
       "\n",
       "    .dataframe thead th {\n",
       "        text-align: right;\n",
       "    }\n",
       "</style>\n",
       "<table border=\"1\" class=\"dataframe\">\n",
       "  <thead>\n",
       "    <tr style=\"text-align: right;\">\n",
       "      <th></th>\n",
       "      <th>Rok</th>\n",
       "      <th>Gdansk</th>\n",
       "      <th>Poznan</th>\n",
       "      <th>Szczecin</th>\n",
       "    </tr>\n",
       "  </thead>\n",
       "  <tbody>\n",
       "    <tr>\n",
       "      <th>0</th>\n",
       "      <td>1900</td>\n",
       "      <td>170</td>\n",
       "      <td>110</td>\n",
       "      <td>210</td>\n",
       "    </tr>\n",
       "    <tr>\n",
       "      <th>1</th>\n",
       "      <td>1925</td>\n",
       "      <td>210</td>\n",
       "      <td>220</td>\n",
       "      <td>254</td>\n",
       "    </tr>\n",
       "    <tr>\n",
       "      <th>2</th>\n",
       "      <td>1939</td>\n",
       "      <td>250</td>\n",
       "      <td>274</td>\n",
       "      <td>287</td>\n",
       "    </tr>\n",
       "    <tr>\n",
       "      <th>3</th>\n",
       "      <td>1946</td>\n",
       "      <td>117</td>\n",
       "      <td>267</td>\n",
       "      <td>72</td>\n",
       "    </tr>\n",
       "    <tr>\n",
       "      <th>4</th>\n",
       "      <td>1950</td>\n",
       "      <td>194</td>\n",
       "      <td>320</td>\n",
       "      <td>178</td>\n",
       "    </tr>\n",
       "    <tr>\n",
       "      <th>5</th>\n",
       "      <td>1960</td>\n",
       "      <td>286</td>\n",
       "      <td>408</td>\n",
       "      <td>269</td>\n",
       "    </tr>\n",
       "    <tr>\n",
       "      <th>6</th>\n",
       "      <td>1970</td>\n",
       "      <td>365</td>\n",
       "      <td>471</td>\n",
       "      <td>338</td>\n",
       "    </tr>\n",
       "    <tr>\n",
       "      <th>7</th>\n",
       "      <td>1980</td>\n",
       "      <td>456</td>\n",
       "      <td>552</td>\n",
       "      <td>388</td>\n",
       "    </tr>\n",
       "    <tr>\n",
       "      <th>8</th>\n",
       "      <td>1990</td>\n",
       "      <td>465</td>\n",
       "      <td>590</td>\n",
       "      <td>413</td>\n",
       "    </tr>\n",
       "    <tr>\n",
       "      <th>9</th>\n",
       "      <td>2000</td>\n",
       "      <td>462</td>\n",
       "      <td>574</td>\n",
       "      <td>416</td>\n",
       "    </tr>\n",
       "    <tr>\n",
       "      <th>10</th>\n",
       "      <td>2010</td>\n",
       "      <td>460</td>\n",
       "      <td>555</td>\n",
       "      <td>405</td>\n",
       "    </tr>\n",
       "  </tbody>\n",
       "</table>\n",
       "</div>"
      ],
      "text/plain": [
       "     Rok  Gdansk  Poznan  Szczecin\n",
       "0   1900     170     110       210\n",
       "1   1925     210     220       254\n",
       "2   1939     250     274       287\n",
       "3   1946     117     267        72\n",
       "4   1950     194     320       178\n",
       "5   1960     286     408       269\n",
       "6   1970     365     471       338\n",
       "7   1980     456     552       388\n",
       "8   1990     465     590       413\n",
       "9   2000     462     574       416\n",
       "10  2010     460     555       405"
      ]
     },
     "execution_count": 14,
     "metadata": {},
     "output_type": "execute_result"
    }
   ],
   "source": [
    "df.loc[10]=[2010,460,555,405]\n",
    "df"
   ]
  },
  {
   "cell_type": "code",
   "execution_count": 15,
   "metadata": {},
   "outputs": [
    {
     "data": {
      "image/png": "[encoded data removed]",
      "text/plain": [
       "<Figure size 640x480 with 1 Axes>"
      ]
     },
     "metadata": {},
     "output_type": "display_data"
    }
   ],
   "source": [
    "import matplotlib.pyplot as plt\n",
    "\n",
    "plt.plot(df['Rok'],df['Gdansk'],'ro-')\n",
    "plt.title('Populacja Gdanska')\n",
    "plt.xlabel('Lata')\n",
    "plt.ylabel('Liczba ludności[w tys]')\n",
    "plt.show()"
   ]
  },
  {
   "cell_type": "code",
   "execution_count": 16,
   "metadata": {},
   "outputs": [
    {
     "data": {
      "image/png": "[encoded data removed]",
      "text/plain": [
       "<Figure size 640x480 with 1 Axes>"
      ]
     },
     "metadata": {},
     "output_type": "display_data"
    }
   ],
   "source": [
    "plt.plot(df['Rok'],df['Gdansk'],'ro-',label=\"Gdansk\")\n",
    "plt.plot(df['Rok'],df['Szczecin'],'bo-',label=\"Szczecin\")\n",
    "plt.plot(df['Rok'],df['Poznan'],'go-',label=\"Poznan\")\n",
    "plt.title('Populacja miast')\n",
    "plt.xlabel('Lata')\n",
    "plt.ylabel('Liczba ludności[w tys]')\n",
    "plt.legend()\n",
    "plt.show()"
   ]
  },
  {
   "cell_type": "code",
   "execution_count": 17,
   "metadata": {},
   "outputs": [
    {
     "data": {
      "text/html": [
       "<div>\n",
       "<style scoped>\n",
       "    .dataframe tbody tr th:only-of-type {\n",
       "        vertical-align: middle;\n",
       "    }\n",
       "\n",
       "    .dataframe tbody tr th {\n",
       "        vertical-align: top;\n",
       "    }\n",
       "\n",
       "    .dataframe thead th {\n",
       "        text-align: right;\n",
       "    }\n",
       "</style>\n",
       "<table border=\"1\" class=\"dataframe\">\n",
       "  <thead>\n",
       "    <tr style=\"text-align: right;\">\n",
       "      <th></th>\n",
       "      <th>Rok</th>\n",
       "      <th>Gdansk</th>\n",
       "      <th>Poznan</th>\n",
       "      <th>Szczecin</th>\n",
       "    </tr>\n",
       "  </thead>\n",
       "  <tbody>\n",
       "    <tr>\n",
       "      <th>0</th>\n",
       "      <td>1900</td>\n",
       "      <td>-1.065200</td>\n",
       "      <td>-1.717176</td>\n",
       "      <td>-0.750452</td>\n",
       "    </tr>\n",
       "    <tr>\n",
       "      <th>1</th>\n",
       "      <td>1925</td>\n",
       "      <td>-0.765719</td>\n",
       "      <td>-1.053560</td>\n",
       "      <td>-0.355649</td>\n",
       "    </tr>\n",
       "    <tr>\n",
       "      <th>2</th>\n",
       "      <td>1939</td>\n",
       "      <td>-0.466238</td>\n",
       "      <td>-0.727784</td>\n",
       "      <td>-0.059547</td>\n",
       "    </tr>\n",
       "    <tr>\n",
       "      <th>3</th>\n",
       "      <td>1946</td>\n",
       "      <td>-1.462013</td>\n",
       "      <td>-0.770014</td>\n",
       "      <td>-1.988698</td>\n",
       "    </tr>\n",
       "    <tr>\n",
       "      <th>4</th>\n",
       "      <td>1950</td>\n",
       "      <td>-0.885512</td>\n",
       "      <td>-0.450272</td>\n",
       "      <td>-1.037581</td>\n",
       "    </tr>\n",
       "    <tr>\n",
       "      <th>5</th>\n",
       "      <td>1960</td>\n",
       "      <td>-0.196705</td>\n",
       "      <td>0.080621</td>\n",
       "      <td>-0.221057</td>\n",
       "    </tr>\n",
       "    <tr>\n",
       "      <th>6</th>\n",
       "      <td>1970</td>\n",
       "      <td>0.394771</td>\n",
       "      <td>0.460692</td>\n",
       "      <td>0.398066</td>\n",
       "    </tr>\n",
       "    <tr>\n",
       "      <th>7</th>\n",
       "      <td>1980</td>\n",
       "      <td>1.076091</td>\n",
       "      <td>0.949355</td>\n",
       "      <td>0.846706</td>\n",
       "    </tr>\n",
       "    <tr>\n",
       "      <th>8</th>\n",
       "      <td>1990</td>\n",
       "      <td>1.143474</td>\n",
       "      <td>1.178605</td>\n",
       "      <td>1.071025</td>\n",
       "    </tr>\n",
       "    <tr>\n",
       "      <th>9</th>\n",
       "      <td>2000</td>\n",
       "      <td>1.121013</td>\n",
       "      <td>1.082079</td>\n",
       "      <td>1.097944</td>\n",
       "    </tr>\n",
       "    <tr>\n",
       "      <th>10</th>\n",
       "      <td>2010</td>\n",
       "      <td>1.106039</td>\n",
       "      <td>0.967454</td>\n",
       "      <td>0.999243</td>\n",
       "    </tr>\n",
       "  </tbody>\n",
       "</table>\n",
       "</div>"
      ],
      "text/plain": [
       "     Rok    Gdansk    Poznan  Szczecin\n",
       "0   1900 -1.065200 -1.717176 -0.750452\n",
       "1   1925 -0.765719 -1.053560 -0.355649\n",
       "2   1939 -0.466238 -0.727784 -0.059547\n",
       "3   1946 -1.462013 -0.770014 -1.988698\n",
       "4   1950 -0.885512 -0.450272 -1.037581\n",
       "5   1960 -0.196705  0.080621 -0.221057\n",
       "6   1970  0.394771  0.460692  0.398066\n",
       "7   1980  1.076091  0.949355  0.846706\n",
       "8   1990  1.143474  1.178605  1.071025\n",
       "9   2000  1.121013  1.082079  1.097944\n",
       "10  2010  1.106039  0.967454  0.999243"
      ]
     },
     "execution_count": 17,
     "metadata": {},
     "output_type": "execute_result"
    }
   ],
   "source": [
    "# new=df.applymap(lambda x:(x-df.mean()/df.std())) ##nie dziala\n",
    "newdf1 = df\n",
    "\n",
    "newdf1[[\"Gdansk\",\"Szczecin\",\"Poznan\"]]=(df[[\"Gdansk\",\"Szczecin\",\"Poznan\"]]-df[[\"Gdansk\",\"Szczecin\",\"Poznan\"]].mean())/df[[\"Gdansk\",\"Szczecin\",\"Poznan\"]].std()\n",
    "\n",
    "newdf1"
   ]
  },
  {
   "attachments": {},
   "cell_type": "markdown",
   "metadata": {},
   "source": [
    "Srednia"
   ]
  },
  {
   "cell_type": "code",
   "execution_count": 18,
   "metadata": {},
   "outputs": [
    {
     "data": {
      "text/plain": [
       "Gdansk      1.211152e-16\n",
       "Szczecin    7.065056e-17\n",
       "Poznan      6.055762e-17\n",
       "dtype: float64"
      ]
     },
     "execution_count": 18,
     "metadata": {},
     "output_type": "execute_result"
    }
   ],
   "source": [
    "mean=newdf1[[\"Gdansk\",\"Szczecin\",\"Poznan\"]].mean()\n",
    "mean"
   ]
  },
  {
   "attachments": {},
   "cell_type": "markdown",
   "metadata": {},
   "source": [
    "Odchylenie standardowe"
   ]
  },
  {
   "cell_type": "code",
   "execution_count": 19,
   "metadata": {},
   "outputs": [
    {
     "data": {
      "text/plain": [
       "Gdansk      1.0\n",
       "Szczecin    1.0\n",
       "Poznan      1.0\n",
       "dtype: float64"
      ]
     },
     "execution_count": 19,
     "metadata": {},
     "output_type": "execute_result"
    }
   ],
   "source": [
    "standardDev=newdf1[[\"Gdansk\",\"Szczecin\",\"Poznan\"]].std()\n",
    "standardDev"
   ]
  },
  {
   "attachments": {},
   "cell_type": "markdown",
   "metadata": {},
   "source": [
    "Normalizacja"
   ]
  },
  {
   "cell_type": "code",
   "execution_count": 20,
   "metadata": {},
   "outputs": [
    {
     "data": {
      "text/html": [
       "<div>\n",
       "<style scoped>\n",
       "    .dataframe tbody tr th:only-of-type {\n",
       "        vertical-align: middle;\n",
       "    }\n",
       "\n",
       "    .dataframe tbody tr th {\n",
       "        vertical-align: top;\n",
       "    }\n",
       "\n",
       "    .dataframe thead th {\n",
       "        text-align: right;\n",
       "    }\n",
       "</style>\n",
       "<table border=\"1\" class=\"dataframe\">\n",
       "  <thead>\n",
       "    <tr style=\"text-align: right;\">\n",
       "      <th></th>\n",
       "      <th>Rok</th>\n",
       "      <th>Gdansk</th>\n",
       "      <th>Poznan</th>\n",
       "      <th>Szczecin</th>\n",
       "    </tr>\n",
       "  </thead>\n",
       "  <tbody>\n",
       "    <tr>\n",
       "      <th>0</th>\n",
       "      <td>1900</td>\n",
       "      <td>0.152299</td>\n",
       "      <td>0.000000</td>\n",
       "      <td>0.401163</td>\n",
       "    </tr>\n",
       "    <tr>\n",
       "      <th>1</th>\n",
       "      <td>1925</td>\n",
       "      <td>0.267241</td>\n",
       "      <td>0.229167</td>\n",
       "      <td>0.529070</td>\n",
       "    </tr>\n",
       "    <tr>\n",
       "      <th>2</th>\n",
       "      <td>1939</td>\n",
       "      <td>0.382184</td>\n",
       "      <td>0.341667</td>\n",
       "      <td>0.625000</td>\n",
       "    </tr>\n",
       "    <tr>\n",
       "      <th>3</th>\n",
       "      <td>1946</td>\n",
       "      <td>0.000000</td>\n",
       "      <td>0.327083</td>\n",
       "      <td>0.000000</td>\n",
       "    </tr>\n",
       "    <tr>\n",
       "      <th>4</th>\n",
       "      <td>1950</td>\n",
       "      <td>0.221264</td>\n",
       "      <td>0.437500</td>\n",
       "      <td>0.308140</td>\n",
       "    </tr>\n",
       "    <tr>\n",
       "      <th>5</th>\n",
       "      <td>1960</td>\n",
       "      <td>0.485632</td>\n",
       "      <td>0.620833</td>\n",
       "      <td>0.572674</td>\n",
       "    </tr>\n",
       "    <tr>\n",
       "      <th>6</th>\n",
       "      <td>1970</td>\n",
       "      <td>0.712644</td>\n",
       "      <td>0.752083</td>\n",
       "      <td>0.773256</td>\n",
       "    </tr>\n",
       "    <tr>\n",
       "      <th>7</th>\n",
       "      <td>1980</td>\n",
       "      <td>0.974138</td>\n",
       "      <td>0.920833</td>\n",
       "      <td>0.918605</td>\n",
       "    </tr>\n",
       "    <tr>\n",
       "      <th>8</th>\n",
       "      <td>1990</td>\n",
       "      <td>1.000000</td>\n",
       "      <td>1.000000</td>\n",
       "      <td>0.991279</td>\n",
       "    </tr>\n",
       "    <tr>\n",
       "      <th>9</th>\n",
       "      <td>2000</td>\n",
       "      <td>0.991379</td>\n",
       "      <td>0.966667</td>\n",
       "      <td>1.000000</td>\n",
       "    </tr>\n",
       "    <tr>\n",
       "      <th>10</th>\n",
       "      <td>2010</td>\n",
       "      <td>0.985632</td>\n",
       "      <td>0.927083</td>\n",
       "      <td>0.968023</td>\n",
       "    </tr>\n",
       "  </tbody>\n",
       "</table>\n",
       "</div>"
      ],
      "text/plain": [
       "     Rok    Gdansk    Poznan  Szczecin\n",
       "0   1900  0.152299  0.000000  0.401163\n",
       "1   1925  0.267241  0.229167  0.529070\n",
       "2   1939  0.382184  0.341667  0.625000\n",
       "3   1946  0.000000  0.327083  0.000000\n",
       "4   1950  0.221264  0.437500  0.308140\n",
       "5   1960  0.485632  0.620833  0.572674\n",
       "6   1970  0.712644  0.752083  0.773256\n",
       "7   1980  0.974138  0.920833  0.918605\n",
       "8   1990  1.000000  1.000000  0.991279\n",
       "9   2000  0.991379  0.966667  1.000000\n",
       "10  2010  0.985632  0.927083  0.968023"
      ]
     },
     "execution_count": 20,
     "metadata": {},
     "output_type": "execute_result"
    }
   ],
   "source": [
    "newdf2= df\n",
    "newdf2[[\"Gdansk\",\"Szczecin\",\"Poznan\"]]=(df[[\"Gdansk\",\"Szczecin\",\"Poznan\"]]-df[[\"Gdansk\",\"Szczecin\",\"Poznan\"]].min())/(df[[\"Gdansk\",\"Szczecin\",\"Poznan\"]].max()-df[[\"Gdansk\",\"Szczecin\",\"Poznan\"]].min())\n",
    "newdf2"
   ]
  },
  {
   "attachments": {},
   "cell_type": "markdown",
   "metadata": {},
   "source": [
    "Minimalne Wartosci"
   ]
  },
  {
   "cell_type": "code",
   "execution_count": 21,
   "metadata": {},
   "outputs": [
    {
     "data": {
      "text/plain": [
       "Gdansk      0.0\n",
       "Szczecin    0.0\n",
       "Poznan      0.0\n",
       "dtype: float64"
      ]
     },
     "execution_count": 21,
     "metadata": {},
     "output_type": "execute_result"
    }
   ],
   "source": [
    "min=newdf2[[\"Gdansk\",\"Szczecin\",\"Poznan\"]].min()\n",
    "min"
   ]
  },
  {
   "attachments": {},
   "cell_type": "markdown",
   "metadata": {},
   "source": [
    "Maksymalne Wartości"
   ]
  },
  {
   "cell_type": "code",
   "execution_count": 22,
   "metadata": {},
   "outputs": [
    {
     "data": {
      "text/plain": [
       "Gdansk      1.0\n",
       "Szczecin    1.0\n",
       "Poznan      1.0\n",
       "dtype: float64"
      ]
     },
     "execution_count": 22,
     "metadata": {},
     "output_type": "execute_result"
    },
    {
     "ename": "",
     "evalue": "",
     "output_type": "error",
     "traceback": [
      "\u001b[1;31mThe Kernel crashed while executing code in the the current cell or a previous cell. Please review the code in the cell(s) to identify a possible cause of the failure. Click <a href='https://aka.ms/vscodeJupyterKernelCrash'>here</a> for more info. View Jupyter <a href='command:jupyter.viewOutput'>log</a> for further details."
     ]
    }
   ],
   "source": [
    "max=newdf2[[\"Gdansk\",\"Szczecin\",\"Poznan\"]].max()\n",
    "max"
   ]
  }
 ],
 "metadata": {
  "kernelspec": {
   "display_name": "Python 3",
   "language": "python",
   "name": "python3"
  },
  "language_info": {
   "codemirror_mode": {
    "name": "ipython",
    "version": 3
   },
   "file_extension": ".py",
   "mimetype": "text/x-python",
   "name": "python",
   "nbconvert_exporter": "python",
   "pygments_lexer": "ipython3",
   "version": "3.10.10"
  },
  "orig_nbformat": 4,
  "vscode": {
   "interpreter": {
    "hash": "d6286a122784853c9d91a96418e5efc373f71b088c4158fe054aee193a72a66e"
   }
  }
 },
 "nbformat": 4,
 "nbformat_minor": 2
}
