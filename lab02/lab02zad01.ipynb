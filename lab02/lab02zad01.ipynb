{
 "cells": [
  {
   "attachments": {},
   "cell_type": "markdown",
   "metadata": {},
   "source": [
    "Dane"
   ]
  },
  {
   "cell_type": "code",
   "execution_count": null,
   "metadata": {},
   "outputs": [],
   "source": [
    "import pygad\n",
    "import numpy\n",
    "\n",
    "S = [1, 2, 3, 6, 10, 17, 25, 29, 30, 41, 51, 60, 70, 79, 80]\n",
    "gene_space = [0, 1]"
   ]
  },
  {
   "cell_type": "code",
   "execution_count": null,
   "metadata": {},
   "outputs": [],
   "source": [
    "def fitness_func(solution, solution_idx):\n",
    "    sum1 = numpy.sum(solution * S)\n",
    "    solution_invert = 1 - solution\n",
    "    sum2 = numpy.sum(solution_invert * S)\n",
    "    fitness = -numpy.abs(sum1-sum2)\n",
    "    #lub: fitness = 1.0 / (1.0 + numpy.abs(sum1-sum2))\n",
    "    return fitness"
   ]
  }
 ],
 "metadata": {
  "kernelspec": {
   "display_name": "Python 3",
   "language": "python",
   "name": "python3"
  },
  "language_info": {
   "name": "python",
   "version": "3.10.10"
  },
  "orig_nbformat": 4,
  "vscode": {
   "interpreter": {
    "hash": "d43e7dd3540f2dbe4a0f5d08fea54dd3da40d98c18cd9bfd138a8eddd96371fe"
   }
  }
 },
 "nbformat": 4,
 "nbformat_minor": 2
}
